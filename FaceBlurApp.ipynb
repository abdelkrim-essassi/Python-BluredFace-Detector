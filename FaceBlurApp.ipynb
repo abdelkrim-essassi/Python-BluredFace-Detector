{
 "cells": [
  {
   "cell_type": "code",
   "execution_count": null,
   "id": "d482738c",
   "metadata": {},
   "outputs": [],
   "source": [
    "\n",
    "import cv2\n",
    "import numpy as np\n",
    "\n",
    "face_cascade = cv2.CascadeClassifier(cv2.data.haarcascades + 'haarcascade_frontalface_default.xml')\n",
    "cap = cv2.VideoCapture(0)\n",
    "if not cap.isOpened():\n",
    "    print(\"Erreur : Impossible d'accéder à la webcam.\")\n",
    "    exit()\n",
    "\n",
    "\n",
    "while True:\n",
    "    ret, frame = cap.read()\n",
    "    if not ret:\n",
    "        break\n",
    "    gray = cv2.cvtColor(frame, cv2.COLOR_BGR2GRAY)\n",
    "    faces = face_cascade.detectMultiScale(gray, 1.1, 5)\n",
    "\n",
    "\n",
    "\n",
    "    for (x, y, w, h) in faces:\n",
    "        face_roi = frame[y:y+h, x:x+w]\n",
    "        blurred_face = cv2.GaussianBlur(face_roi, (99, 99), 30)\n",
    "\n",
    "\n",
    "        mask = np.zeros((h, w), dtype=np.uint8)\n",
    "        center = (w // 2, h // 2)\n",
    "        axes = (w // 2, h // 2)\n",
    "        cv2.ellipse(mask, center, axes, 0, 0, 360, 255, -1)\n",
    "\n",
    "\n",
    "        mask_3d = cv2.merge([mask, mask, mask])\n",
    "        combined = np.where(mask_3d == 255, blurred_face, face_roi)\n",
    "        frame[y:y+h, x:x+w] = combined\n",
    "\n",
    "\n",
    "\n",
    "    cv2.imshow(\"Webcam - Visage flouté (forme ovale)\", frame)\n",
    "    if cv2.waitKey(1) & 0xFF == 27:  \n",
    "        break\n",
    "cap.release()\n",
    "cv2.destroyAllWindows()\n"
   ]
  },
  {
   "cell_type": "code",
   "execution_count": 9,
   "id": "07f418cf",
   "metadata": {},
   "outputs": [
    {
     "data": {
      "text/plain": [
       "(2, 4)"
      ]
     },
     "execution_count": 9,
     "metadata": {},
     "output_type": "execute_result"
    }
   ],
   "source": [
    "import cv2\n",
    "import numpy as np\n",
    "from tkinter import Tk, Button, filedialog\n",
    "\n",
    "# Load l model mta3 l face detection\n",
    "face_cascade = cv2.CascadeClassifier(cv2.data.haarcascades + 'haarcascade_frontalface_default.xml')\n",
    "\n",
    "def blur_faces(image):\n",
    "    gray = cv2.cvtColor(image, cv2.COLOR_BGR2GRAY)\n",
    "    faces = face_cascade.detectMultiScale(gray, 1.1, 5)\n",
    "\n",
    "    for (x, y, w, h) in faces:\n",
    "        face_roi = image[y:y+h, x:x+w]\n",
    "        blurred_face = cv2.GaussianBlur(face_roi, (151, 151), 30)\n",
    "\n",
    "        mask = np.zeros((h, w), dtype=np.uint8)\n",
    "        center = (w // 2, h // 2)\n",
    "        axes = (w // 2, h // 2)\n",
    "        cv2.ellipse(mask, center, axes, 0, 0, 360, 255, -1)\n",
    "\n",
    "        mask_3d = cv2.merge([mask, mask, mask])\n",
    "        combined = np.where(mask_3d == 255, blurred_face, face_roi)\n",
    "\n",
    "        image[y:y+h, x:x+w] = combined\n",
    "\n",
    "    return image\n",
    "\n",
    "def select_image():\n",
    "    file_path = filedialog.askopenfilename(filetypes=[(\"Image files\", \"*.jpg *.jpeg *.png\")])\n",
    "    if file_path:\n",
    "        image = cv2.imread(file_path)\n",
    "        if image is None:\n",
    "            print(\"Erreur : l'image n'a pas été chargée.\")\n",
    "            return\n",
    "\n",
    "        result = blur_faces(image)\n",
    "        cv2.imshow(\"Visage flouté (forme ovale)\", result)\n",
    "        cv2.waitKey(0)\n",
    "        cv2.destroyAllWindows()\n",
    "\n",
    "# tawa na3mlo el Setup GUI\n",
    "root = Tk()\n",
    "root.title(\"Sélecteur d'image pour flouter le visage\")\n",
    "root.geometry(\"300x100\")\n",
    "\n",
    "btn = Button(root, text=\"Choisir une image\", command=select_image, font=(\"Arial\", 12), bg=\"#4CAF50\", fg=\"white\")\n",
    "btn.pack(pady=20)\n",
    "\n",
    "root.mainloop()\n",
    "faces.shape\n"
   ]
  }
 ],
 "metadata": {
  "kernelspec": {
   "display_name": "Python 3",
   "language": "python",
   "name": "python3"
  },
  "language_info": {
   "codemirror_mode": {
    "name": "ipython",
    "version": 3
   },
   "file_extension": ".py",
   "mimetype": "text/x-python",
   "name": "python",
   "nbconvert_exporter": "python",
   "pygments_lexer": "ipython3",
   "version": "3.13.2"
  }
 },
 "nbformat": 4,
 "nbformat_minor": 5
}
